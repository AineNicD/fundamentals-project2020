{
 "cells": [
  {
   "cell_type": "markdown",
   "metadata": {},
   "source": [
    "## Project 2020\n",
    "### Fundamentals of Data Analysis\n",
    "### Student: Aine Nic Dhonnacha\n",
    "### Lecturer: Ian Mc loughlin\n",
    "\n",
    "This project performs and explains simple linear regression using Python on the powerproduction dataset below. The goal is to accurately predict wind turbine power output from wind speed values using the data set as a basis.\n"
   ]
  },
  {
   "cell_type": "markdown",
   "metadata": {},
   "source": [
    "###### The data set url \"https://raw.githubusercontent.com/ianmcloughlin/2020A-machstat-project/master/dataset/powerproduction.csv\"\n",
    "   The data set was provided by Ian Mc Loughlin on moodle. "
   ]
  },
  {
   "cell_type": "code",
   "execution_count": 1,
   "metadata": {},
   "outputs": [],
   "source": [
    "#Importing pandas as pd to read the dataset url:\n",
    "import pandas as pd\n",
    "url =\"https://raw.githubusercontent.com/ianmcloughlin/2020A-machstat-project/master/dataset/powerproduction.csv\"\n",
    "ds = pd.read_csv(url)\n"
   ]
  },
  {
   "cell_type": "code",
   "execution_count": 2,
   "metadata": {},
   "outputs": [
    {
     "name": "stdout",
     "output_type": "stream",
     "text": [
      "      speed  power\n",
      "0     0.000    0.0\n",
      "1     0.125    0.0\n",
      "2     0.150    0.0\n",
      "3     0.225    0.0\n",
      "4     0.275    0.0\n",
      "..      ...    ...\n",
      "495  24.775    0.0\n",
      "496  24.850    0.0\n",
      "497  24.875    0.0\n",
      "498  24.950    0.0\n",
      "499  25.000    0.0\n",
      "\n",
      "[500 rows x 2 columns]\n"
     ]
    }
   ],
   "source": [
    "#testing it is reading the data set correctly\n",
    "print(ds)"
   ]
  },
  {
   "cell_type": "code",
   "execution_count": null,
   "metadata": {},
   "outputs": [],
   "source": []
  }
 ],
 "metadata": {
  "kernelspec": {
   "display_name": "Python 3",
   "language": "python",
   "name": "python3"
  },
  "language_info": {
   "codemirror_mode": {
    "name": "ipython",
    "version": 3
   },
   "file_extension": ".py",
   "mimetype": "text/x-python",
   "name": "python",
   "nbconvert_exporter": "python",
   "pygments_lexer": "ipython3",
   "version": "3.8.3"
  }
 },
 "nbformat": 4,
 "nbformat_minor": 4
}
